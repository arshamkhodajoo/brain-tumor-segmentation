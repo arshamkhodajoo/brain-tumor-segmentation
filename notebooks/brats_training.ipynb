{
 "cells": [
  {
   "cell_type": "markdown",
   "metadata": {},
   "source": [
    "## Setup configs"
   ]
  },
  {
   "cell_type": "code",
   "execution_count": 5,
   "metadata": {},
   "outputs": [],
   "source": [
    "config_path = \"../configs/unet3d_brats.yaml\" #@param"
   ]
  },
  {
   "cell_type": "code",
   "execution_count": 6,
   "metadata": {},
   "outputs": [],
   "source": [
    "import yaml\n",
    "from pathlib import Path\n",
    "\n",
    "config = yaml.safe_load(Path(config_path).read_text())"
   ]
  },
  {
   "cell_type": "code",
   "execution_count": 7,
   "metadata": {},
   "outputs": [
    {
     "data": {
      "text/plain": [
       "{'name': 'UNet3D',\n",
       " 'in_channels': 3,\n",
       " 'out_channels': 3,\n",
       " 'layer_order': 'gcr',\n",
       " 'f_maps': 32,\n",
       " 'num_groups': 8,\n",
       " 'final_sigmoid': True}"
      ]
     },
     "execution_count": 7,
     "metadata": {},
     "output_type": "execute_result"
    }
   ],
   "source": [
    "config[\"model\"]"
   ]
  },
  {
   "cell_type": "markdown",
   "metadata": {},
   "source": [
    "## Loading dataset\n",
    "training data will be combination of `brats2015`, `brats2017` and `brast2022`. "
   ]
  },
  {
   "cell_type": "code",
   "execution_count": 8,
   "metadata": {},
   "outputs": [],
   "source": [
    "from bras.utils.datasets import BraTs"
   ]
  },
  {
   "cell_type": "code",
   "execution_count": 9,
   "metadata": {},
   "outputs": [
    {
     "name": "stdout",
     "output_type": "stream",
     "text": [
      "loading 1 samples from ..\\BraTS-sample\n"
     ]
    }
   ],
   "source": [
    "brats_2015 = BraTs(Path(\"../BraTS-sample/\"))"
   ]
  },
  {
   "cell_type": "markdown",
   "metadata": {},
   "source": [
    "## Setup dataloaders\n",
    "with image transformation piplines usign `albumentation`"
   ]
  },
  {
   "cell_type": "code",
   "execution_count": 10,
   "metadata": {},
   "outputs": [],
   "source": [
    "from torch.utils.data import DataLoader"
   ]
  },
  {
   "cell_type": "code",
   "execution_count": 11,
   "metadata": {},
   "outputs": [],
   "source": [
    "brats_2015_dataloader = DataLoader(dataset=brats_2015)"
   ]
  },
  {
   "cell_type": "markdown",
   "metadata": {},
   "source": [
    "## Defne 3D U-net model"
   ]
  },
  {
   "cell_type": "code",
   "execution_count": 12,
   "metadata": {},
   "outputs": [
    {
     "ename": "AttributeError",
     "evalue": "module 'torch' has no attribute '_six'",
     "output_type": "error",
     "traceback": [
      "\u001b[1;31m---------------------------------------------------------------------------\u001b[0m",
      "\u001b[1;31mAttributeError\u001b[0m                            Traceback (most recent call last)",
      "\u001b[1;32mc:\\Users\\Arsham\\Documents\\Projects\\BRAS\\notebooks\\brats_training.ipynb Cell 12'\u001b[0m in \u001b[0;36m<cell line: 2>\u001b[1;34m()\u001b[0m\n\u001b[0;32m      <a href='vscode-notebook-cell:/c%3A/Users/Arsham/Documents/Projects/BRAS/notebooks/brats_training.ipynb#ch0000030?line=0'>1</a>\u001b[0m \u001b[39mfrom\u001b[39;00m \u001b[39mbras\u001b[39;00m\u001b[39m.\u001b[39;00m\u001b[39mnn\u001b[39;00m\u001b[39m.\u001b[39;00m\u001b[39mbts\u001b[39;00m \u001b[39mimport\u001b[39;00m get_model\n\u001b[1;32m----> <a href='vscode-notebook-cell:/c%3A/Users/Arsham/Documents/Projects/BRAS/notebooks/brats_training.ipynb#ch0000030?line=1'>2</a>\u001b[0m model \u001b[39m=\u001b[39m get_model(config[\u001b[39m\"\u001b[39;49m\u001b[39mmodel\u001b[39;49m\u001b[39m\"\u001b[39;49m])\n",
      "File \u001b[1;32mc:\\users\\arsham\\documents\\projects\\bras\\bras\\nn\\bts.py:175\u001b[0m, in \u001b[0;36mget_model\u001b[1;34m(model_config)\u001b[0m\n\u001b[0;32m    172\u001b[0m \u001b[39mdef\u001b[39;00m \u001b[39mget_model\u001b[39m(model_config):\n\u001b[0;32m    173\u001b[0m     model_class \u001b[39m=\u001b[39m ModelGenerator\u001b[39m.\u001b[39mget_class(model_config[\u001b[39m'\u001b[39m\u001b[39mname\u001b[39m\u001b[39m'\u001b[39m], modules\u001b[39m=\u001b[39m[\n\u001b[0;32m    174\u001b[0m                                            \u001b[39m'\u001b[39m\u001b[39mbras.nn.bts\u001b[39m\u001b[39m'\u001b[39m])\n\u001b[1;32m--> 175\u001b[0m     \u001b[39mreturn\u001b[39;00m model_class(\u001b[39m*\u001b[39m\u001b[39m*\u001b[39mmodel_config)\n",
      "File \u001b[1;32mc:\\users\\arsham\\documents\\projects\\bras\\bras\\nn\\bts.py:112\u001b[0m, in \u001b[0;36mUNet3D.__init__\u001b[1;34m(self, in_channels, out_channels, final_sigmoid, f_maps, layer_order, num_groups, num_levels, is_segmentation, conv_padding, **kwargs)\u001b[0m\n\u001b[0;32m    110\u001b[0m \u001b[39mdef\u001b[39;00m \u001b[39m__init__\u001b[39m(\u001b[39mself\u001b[39m, in_channels, out_channels, final_sigmoid\u001b[39m=\u001b[39m\u001b[39mTrue\u001b[39;00m, f_maps\u001b[39m=\u001b[39m\u001b[39m64\u001b[39m, layer_order\u001b[39m=\u001b[39m\u001b[39m'\u001b[39m\u001b[39mgcr\u001b[39m\u001b[39m'\u001b[39m,\n\u001b[0;32m    111\u001b[0m              num_groups\u001b[39m=\u001b[39m\u001b[39m8\u001b[39m, num_levels\u001b[39m=\u001b[39m\u001b[39m4\u001b[39m, is_segmentation\u001b[39m=\u001b[39m\u001b[39mTrue\u001b[39;00m, conv_padding\u001b[39m=\u001b[39m\u001b[39m1\u001b[39m, \u001b[39m*\u001b[39m\u001b[39m*\u001b[39mkwargs):\n\u001b[1;32m--> 112\u001b[0m     \u001b[39msuper\u001b[39m(UNet3D, \u001b[39mself\u001b[39m)\u001b[39m.\u001b[39m\u001b[39m__init__\u001b[39m(in_channels\u001b[39m=\u001b[39min_channels,\n\u001b[0;32m    113\u001b[0m                                  out_channels\u001b[39m=\u001b[39mout_channels,\n\u001b[0;32m    114\u001b[0m                                  final_sigmoid\u001b[39m=\u001b[39mfinal_sigmoid,\n\u001b[0;32m    115\u001b[0m                                  basic_module\u001b[39m=\u001b[39mDoubleConv,\n\u001b[0;32m    116\u001b[0m                                  f_maps\u001b[39m=\u001b[39mf_maps,\n\u001b[0;32m    117\u001b[0m                                  layer_order\u001b[39m=\u001b[39mlayer_order,\n\u001b[0;32m    118\u001b[0m                                  num_groups\u001b[39m=\u001b[39mnum_groups,\n\u001b[0;32m    119\u001b[0m                                  num_levels\u001b[39m=\u001b[39mnum_levels,\n\u001b[0;32m    120\u001b[0m                                  is_segmentation\u001b[39m=\u001b[39mis_segmentation,\n\u001b[0;32m    121\u001b[0m                                  conv_padding\u001b[39m=\u001b[39mconv_padding,\n\u001b[0;32m    122\u001b[0m                                  \u001b[39m*\u001b[39m\u001b[39m*\u001b[39mkwargs)\n",
      "File \u001b[1;32mc:\\users\\arsham\\documents\\projects\\bras\\bras\\nn\\bts.py:54\u001b[0m, in \u001b[0;36mAbstract3DUNet.__init__\u001b[1;34m(self, in_channels, out_channels, final_sigmoid, basic_module, f_maps, layer_order, num_groups, num_levels, is_segmentation, conv_kernel_size, pool_kernel_size, conv_padding, **kwargs)\u001b[0m\n\u001b[0;32m     51\u001b[0m \u001b[39massert\u001b[39;00m \u001b[39mlen\u001b[39m(f_maps) \u001b[39m>\u001b[39m \u001b[39m1\u001b[39m, \u001b[39m\"\u001b[39m\u001b[39mRequired at least 2 levels in the U-Net\u001b[39m\u001b[39m\"\u001b[39m\n\u001b[0;32m     53\u001b[0m \u001b[39m# create encoder path\u001b[39;00m\n\u001b[1;32m---> 54\u001b[0m \u001b[39mself\u001b[39m\u001b[39m.\u001b[39mencoders \u001b[39m=\u001b[39m create_encoders(in_channels, f_maps, basic_module, conv_kernel_size, conv_padding, layer_order,\n\u001b[0;32m     55\u001b[0m                                 num_groups, pool_kernel_size)\n\u001b[0;32m     57\u001b[0m \u001b[39m# create decoder path\u001b[39;00m\n\u001b[0;32m     58\u001b[0m \u001b[39mself\u001b[39m\u001b[39m.\u001b[39mdecoders \u001b[39m=\u001b[39m create_decoders(f_maps, basic_module, conv_kernel_size, conv_padding, layer_order, num_groups,\n\u001b[0;32m     59\u001b[0m                                 upsample\u001b[39m=\u001b[39m\u001b[39mTrue\u001b[39;00m)\n",
      "File \u001b[1;32mc:\\users\\arsham\\documents\\projects\\bras\\bras\\nn\\blocks.py:311\u001b[0m, in \u001b[0;36mcreate_encoders\u001b[1;34m(in_channels, f_maps, basic_module, conv_kernel_size, conv_padding, layer_order, num_groups, pool_kernel_size)\u001b[0m\n\u001b[0;32m    309\u001b[0m \u001b[39mfor\u001b[39;00m i, out_feature_num \u001b[39min\u001b[39;00m \u001b[39menumerate\u001b[39m(f_maps):\n\u001b[0;32m    310\u001b[0m     \u001b[39mif\u001b[39;00m i \u001b[39m==\u001b[39m \u001b[39m0\u001b[39m:\n\u001b[1;32m--> 311\u001b[0m         encoder \u001b[39m=\u001b[39m Encoder(in_channels, out_feature_num,\n\u001b[0;32m    312\u001b[0m                           apply_pooling\u001b[39m=\u001b[39;49m\u001b[39mFalse\u001b[39;49;00m,  \u001b[39m# skip pooling in the firs encoder\u001b[39;49;00m\n\u001b[0;32m    313\u001b[0m                           basic_module\u001b[39m=\u001b[39;49mbasic_module,\n\u001b[0;32m    314\u001b[0m                           conv_layer_order\u001b[39m=\u001b[39;49mlayer_order,\n\u001b[0;32m    315\u001b[0m                           conv_kernel_size\u001b[39m=\u001b[39;49mconv_kernel_size,\n\u001b[0;32m    316\u001b[0m                           num_groups\u001b[39m=\u001b[39;49mnum_groups,\n\u001b[0;32m    317\u001b[0m                           padding\u001b[39m=\u001b[39;49mconv_padding)\n\u001b[0;32m    318\u001b[0m     \u001b[39melse\u001b[39;00m:\n\u001b[0;32m    319\u001b[0m         \u001b[39m# TODO: adapt for anisotropy in the data, i.e. use proper pooling kernel to make the data isotropic after 1-2 pooling operations\u001b[39;00m\n\u001b[0;32m    320\u001b[0m         encoder \u001b[39m=\u001b[39m Encoder(f_maps[i \u001b[39m-\u001b[39m \u001b[39m1\u001b[39m], out_feature_num,\n\u001b[0;32m    321\u001b[0m                           basic_module\u001b[39m=\u001b[39mbasic_module,\n\u001b[0;32m    322\u001b[0m                           conv_layer_order\u001b[39m=\u001b[39mlayer_order,\n\u001b[1;32m   (...)\u001b[0m\n\u001b[0;32m    325\u001b[0m                           pool_kernel_size\u001b[39m=\u001b[39mpool_kernel_size,\n\u001b[0;32m    326\u001b[0m                           padding\u001b[39m=\u001b[39mconv_padding)\n",
      "File \u001b[1;32mc:\\users\\arsham\\documents\\projects\\bras\\bras\\nn\\blocks.py:227\u001b[0m, in \u001b[0;36mEncoder.__init__\u001b[1;34m(self, in_channels, out_channels, conv_kernel_size, apply_pooling, pool_kernel_size, pool_type, basic_module, conv_layer_order, num_groups, padding)\u001b[0m\n\u001b[0;32m    224\u001b[0m \u001b[39melse\u001b[39;00m:\n\u001b[0;32m    225\u001b[0m     \u001b[39mself\u001b[39m\u001b[39m.\u001b[39mpooling \u001b[39m=\u001b[39m \u001b[39mNone\u001b[39;00m\n\u001b[1;32m--> 227\u001b[0m \u001b[39mself\u001b[39m\u001b[39m.\u001b[39mbasic_module \u001b[39m=\u001b[39m basic_module(in_channels, out_channels,\n\u001b[0;32m    228\u001b[0m                                  encoder\u001b[39m=\u001b[39;49m\u001b[39mTrue\u001b[39;49;00m,\n\u001b[0;32m    229\u001b[0m                                  kernel_size\u001b[39m=\u001b[39;49mconv_kernel_size,\n\u001b[0;32m    230\u001b[0m                                  order\u001b[39m=\u001b[39;49mconv_layer_order,\n\u001b[0;32m    231\u001b[0m                                  num_groups\u001b[39m=\u001b[39;49mnum_groups,\n\u001b[0;32m    232\u001b[0m                                  padding\u001b[39m=\u001b[39;49mpadding)\n",
      "File \u001b[1;32mc:\\users\\arsham\\documents\\projects\\bras\\bras\\nn\\blocks.py:136\u001b[0m, in \u001b[0;36mDoubleConv.__init__\u001b[1;34m(self, in_channels, out_channels, encoder, kernel_size, order, num_groups, padding)\u001b[0m\n\u001b[0;32m    132\u001b[0m     conv2_in_channels, conv2_out_channels \u001b[39m=\u001b[39m out_channels, out_channels\n\u001b[0;32m    134\u001b[0m \u001b[39m# conv1\u001b[39;00m\n\u001b[0;32m    135\u001b[0m \u001b[39mself\u001b[39m\u001b[39m.\u001b[39madd_module(\u001b[39m'\u001b[39m\u001b[39mSingleConv1\u001b[39m\u001b[39m'\u001b[39m,\n\u001b[1;32m--> 136\u001b[0m                 SingleConv(conv1_in_channels, conv1_out_channels, kernel_size, order, num_groups,\n\u001b[0;32m    137\u001b[0m                            padding\u001b[39m=\u001b[39;49mpadding))\n\u001b[0;32m    138\u001b[0m \u001b[39m# conv2\u001b[39;00m\n\u001b[0;32m    139\u001b[0m \u001b[39mself\u001b[39m\u001b[39m.\u001b[39madd_module(\u001b[39m'\u001b[39m\u001b[39mSingleConv2\u001b[39m\u001b[39m'\u001b[39m,\n\u001b[0;32m    140\u001b[0m                 SingleConv(conv2_in_channels, conv2_out_channels, kernel_size, order, num_groups,\n\u001b[0;32m    141\u001b[0m                            padding\u001b[39m=\u001b[39mpadding))\n",
      "File \u001b[1;32mc:\\users\\arsham\\documents\\projects\\bras\\bras\\nn\\blocks.py:94\u001b[0m, in \u001b[0;36mSingleConv.__init__\u001b[1;34m(self, in_channels, out_channels, kernel_size, order, num_groups, padding)\u001b[0m\n\u001b[0;32m     91\u001b[0m \u001b[39mdef\u001b[39;00m \u001b[39m__init__\u001b[39m(\u001b[39mself\u001b[39m, in_channels, out_channels, kernel_size\u001b[39m=\u001b[39m\u001b[39m3\u001b[39m, order\u001b[39m=\u001b[39m\u001b[39m'\u001b[39m\u001b[39mgcr\u001b[39m\u001b[39m'\u001b[39m, num_groups\u001b[39m=\u001b[39m\u001b[39m8\u001b[39m, padding\u001b[39m=\u001b[39m\u001b[39m1\u001b[39m):\n\u001b[0;32m     92\u001b[0m     \u001b[39msuper\u001b[39m(SingleConv, \u001b[39mself\u001b[39m)\u001b[39m.\u001b[39m\u001b[39m__init__\u001b[39m()\n\u001b[1;32m---> 94\u001b[0m     \u001b[39mfor\u001b[39;00m name, module \u001b[39min\u001b[39;00m create_conv(in_channels, out_channels, kernel_size, order, num_groups, padding\u001b[39m=\u001b[39;49mpadding):\n\u001b[0;32m     95\u001b[0m         \u001b[39mself\u001b[39m\u001b[39m.\u001b[39madd_module(name, module)\n",
      "File \u001b[1;32mc:\\users\\arsham\\documents\\projects\\bras\\bras\\nn\\blocks.py:59\u001b[0m, in \u001b[0;36mcreate_conv\u001b[1;34m(in_channels, out_channels, kernel_size, order, num_groups, padding)\u001b[0m\n\u001b[0;32m     56\u001b[0m         num_groups \u001b[39m=\u001b[39m \u001b[39m1\u001b[39m\n\u001b[0;32m     58\u001b[0m     \u001b[39massert\u001b[39;00m num_channels \u001b[39m%\u001b[39m num_groups \u001b[39m==\u001b[39m \u001b[39m0\u001b[39m, \u001b[39mf\u001b[39m\u001b[39m'\u001b[39m\u001b[39mExpected number of channels in input to be divisible by num_groups. num_channels=\u001b[39m\u001b[39m{\u001b[39;00mnum_channels\u001b[39m}\u001b[39;00m\u001b[39m, num_groups=\u001b[39m\u001b[39m{\u001b[39;00mnum_groups\u001b[39m}\u001b[39;00m\u001b[39m'\u001b[39m\n\u001b[1;32m---> 59\u001b[0m     modules\u001b[39m.\u001b[39mappend((\u001b[39m'\u001b[39m\u001b[39mgroupnorm\u001b[39m\u001b[39m'\u001b[39m, nn\u001b[39m.\u001b[39;49mGroupNorm(\n\u001b[0;32m     60\u001b[0m         num_groups\u001b[39m=\u001b[39;49mnum_groups, num_channels\u001b[39m=\u001b[39;49mnum_channels)))\n\u001b[0;32m     61\u001b[0m \u001b[39melif\u001b[39;00m char \u001b[39m==\u001b[39m \u001b[39m'\u001b[39m\u001b[39mb\u001b[39m\u001b[39m'\u001b[39m:\n\u001b[0;32m     62\u001b[0m     is_before_conv \u001b[39m=\u001b[39m i \u001b[39m<\u001b[39m order\u001b[39m.\u001b[39mindex(\u001b[39m'\u001b[39m\u001b[39mc\u001b[39m\u001b[39m'\u001b[39m)\n",
      "File \u001b[1;32md:\\anaconda\\lib\\site-packages\\torch\\nn\\modules\\normalization.py:258\u001b[0m, in \u001b[0;36mGroupNorm.__init__\u001b[1;34m(self, num_groups, num_channels, eps, affine, device, dtype)\u001b[0m\n\u001b[0;32m    256\u001b[0m \u001b[39mself\u001b[39m\u001b[39m.\u001b[39maffine \u001b[39m=\u001b[39m affine\n\u001b[0;32m    257\u001b[0m \u001b[39mif\u001b[39;00m \u001b[39mself\u001b[39m\u001b[39m.\u001b[39maffine:\n\u001b[1;32m--> 258\u001b[0m     \u001b[39mself\u001b[39m\u001b[39m.\u001b[39mweight \u001b[39m=\u001b[39m Parameter(torch\u001b[39m.\u001b[39mempty(num_channels, \u001b[39m*\u001b[39m\u001b[39m*\u001b[39mfactory_kwargs))\n\u001b[0;32m    259\u001b[0m     \u001b[39mself\u001b[39m\u001b[39m.\u001b[39mbias \u001b[39m=\u001b[39m Parameter(torch\u001b[39m.\u001b[39mempty(num_channels, \u001b[39m*\u001b[39m\u001b[39m*\u001b[39mfactory_kwargs))\n\u001b[0;32m    260\u001b[0m \u001b[39melse\u001b[39;00m:\n",
      "File \u001b[1;32md:\\anaconda\\lib\\site-packages\\torch\\nn\\modules\\module.py:1225\u001b[0m, in \u001b[0;36mModule.__setattr__\u001b[1;34m(self, name, value)\u001b[0m\n\u001b[0;32m   1222\u001b[0m         \u001b[39mraise\u001b[39;00m \u001b[39mAttributeError\u001b[39;00m(\n\u001b[0;32m   1223\u001b[0m             \u001b[39m\"\u001b[39m\u001b[39mcannot assign parameters before Module.__init__() call\u001b[39m\u001b[39m\"\u001b[39m)\n\u001b[0;32m   1224\u001b[0m     remove_from(\u001b[39mself\u001b[39m\u001b[39m.\u001b[39m\u001b[39m__dict__\u001b[39m, \u001b[39mself\u001b[39m\u001b[39m.\u001b[39m_buffers, \u001b[39mself\u001b[39m\u001b[39m.\u001b[39m_modules, \u001b[39mself\u001b[39m\u001b[39m.\u001b[39m_non_persistent_buffers_set)\n\u001b[1;32m-> 1225\u001b[0m     \u001b[39mself\u001b[39;49m\u001b[39m.\u001b[39;49mregister_parameter(name, value)\n\u001b[0;32m   1226\u001b[0m \u001b[39melif\u001b[39;00m params \u001b[39mis\u001b[39;00m \u001b[39mnot\u001b[39;00m \u001b[39mNone\u001b[39;00m \u001b[39mand\u001b[39;00m name \u001b[39min\u001b[39;00m params:\n\u001b[0;32m   1227\u001b[0m     \u001b[39mif\u001b[39;00m value \u001b[39mis\u001b[39;00m \u001b[39mnot\u001b[39;00m \u001b[39mNone\u001b[39;00m:\n",
      "File \u001b[1;32md:\\anaconda\\lib\\site-packages\\torch\\nn\\modules\\module.py:346\u001b[0m, in \u001b[0;36mModule.register_parameter\u001b[1;34m(self, name, param)\u001b[0m\n\u001b[0;32m    342\u001b[0m \u001b[39mif\u001b[39;00m \u001b[39m'\u001b[39m\u001b[39m_parameters\u001b[39m\u001b[39m'\u001b[39m \u001b[39mnot\u001b[39;00m \u001b[39min\u001b[39;00m \u001b[39mself\u001b[39m\u001b[39m.\u001b[39m\u001b[39m__dict__\u001b[39m:\n\u001b[0;32m    343\u001b[0m     \u001b[39mraise\u001b[39;00m \u001b[39mAttributeError\u001b[39;00m(\n\u001b[0;32m    344\u001b[0m         \u001b[39m\"\u001b[39m\u001b[39mcannot assign parameter before Module.__init__() call\u001b[39m\u001b[39m\"\u001b[39m)\n\u001b[1;32m--> 346\u001b[0m \u001b[39melif\u001b[39;00m \u001b[39mnot\u001b[39;00m \u001b[39misinstance\u001b[39m(name, torch\u001b[39m.\u001b[39;49m_six\u001b[39m.\u001b[39mstring_classes):\n\u001b[0;32m    347\u001b[0m     \u001b[39mraise\u001b[39;00m \u001b[39mTypeError\u001b[39;00m(\u001b[39m\"\u001b[39m\u001b[39mparameter name should be a string. \u001b[39m\u001b[39m\"\u001b[39m\n\u001b[0;32m    348\u001b[0m                     \u001b[39m\"\u001b[39m\u001b[39mGot \u001b[39m\u001b[39m{}\u001b[39;00m\u001b[39m\"\u001b[39m\u001b[39m.\u001b[39mformat(torch\u001b[39m.\u001b[39mtypename(name)))\n\u001b[0;32m    349\u001b[0m \u001b[39melif\u001b[39;00m \u001b[39m'\u001b[39m\u001b[39m.\u001b[39m\u001b[39m'\u001b[39m \u001b[39min\u001b[39;00m name:\n",
      "\u001b[1;31mAttributeError\u001b[0m: module 'torch' has no attribute '_six'"
     ]
    }
   ],
   "source": [
    "from bras.nn.bts import get_model\n",
    "model = get_model(config[\"model\"])"
   ]
  },
  {
   "cell_type": "code",
   "execution_count": null,
   "metadata": {},
   "outputs": [
    {
     "ename": "",
     "evalue": "",
     "output_type": "error",
     "traceback": [
      "\u001b[1;31mCanceled future for execute_request message before replies were done"
     ]
    },
    {
     "ename": "",
     "evalue": "",
     "output_type": "error",
     "traceback": [
      "\u001b[1;31mThe Kernel crashed while executing code in the the current cell or a previous cell. Please review the code in the cell(s) to identify a possible cause of the failure. Click <a href='https://aka.ms/vscodeJupyterKernelCrash'>here</a> for more info. View Jupyter <a href='command:jupyter.viewOutput'>log</a> for further details."
     ]
    }
   ],
   "source": [
    "channels, seg = brats_2015[0]"
   ]
  },
  {
   "cell_type": "code",
   "execution_count": null,
   "metadata": {},
   "outputs": [],
   "source": []
  }
 ],
 "metadata": {
  "kernelspec": {
   "display_name": "Python 3.9.12 ('base')",
   "language": "python",
   "name": "python3"
  },
  "language_info": {
   "codemirror_mode": {
    "name": "ipython",
    "version": 3
   },
   "file_extension": ".py",
   "mimetype": "text/x-python",
   "name": "python",
   "nbconvert_exporter": "python",
   "pygments_lexer": "ipython3",
   "version": "3.9.12"
  },
  "orig_nbformat": 4,
  "vscode": {
   "interpreter": {
    "hash": "5179d32cf6ec497baf3f8a3ef987cc77c5d2dc691fdde20a56316522f61a7323"
   }
  }
 },
 "nbformat": 4,
 "nbformat_minor": 2
}
