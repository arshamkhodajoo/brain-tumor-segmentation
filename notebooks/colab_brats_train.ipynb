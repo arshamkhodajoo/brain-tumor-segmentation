{
 "cells": [
  {
   "cell_type": "code",
   "execution_count": null,
   "metadata": {},
   "outputs": [],
   "source": [
    "is_on_colab = True"
   ]
  },
  {
   "cell_type": "code",
   "execution_count": 5,
   "metadata": {},
   "outputs": [],
   "source": [
    "BATCH_SIZE = 2 #@param\n",
    "DATASET_PATH = \"./dataset\" #@param\n",
    "CONFIG_FILE = \"./configs/unet.yaml\" #@param\n",
    "CHECKPOINT_PATH = \"\" #@param\n",
    "TENSORBOARD_DIR = \"\" #@param\n",
    "MODEL_SAVE_PATH = \"\" #@param"
   ]
  },
  {
   "cell_type": "markdown",
   "metadata": {},
   "source": [
    "### Setup codebase (Google Colab)"
   ]
  },
  {
   "cell_type": "code",
   "execution_count": null,
   "metadata": {},
   "outputs": [],
   "source": [
    "! git clone https://github.com/arshamkhodajoo/brain-tumor-segmentation\n",
    "%cd /content/brain-tumor-segmentation"
   ]
  },
  {
   "cell_type": "code",
   "execution_count": null,
   "metadata": {},
   "outputs": [],
   "source": [
    "! pip install pytorch_lightning monai"
   ]
  },
  {
   "cell_type": "markdown",
   "metadata": {},
   "source": [
    "### read config files"
   ]
  },
  {
   "cell_type": "code",
   "execution_count": null,
   "metadata": {},
   "outputs": [],
   "source": [
    "from bras.utils import read_config\n",
    "config = read_config(CONFIG_FILE)"
   ]
  },
  {
   "cell_type": "markdown",
   "metadata": {},
   "source": [
    "### Load dataset and setup DataLoader"
   ]
  },
  {
   "cell_type": "code",
   "execution_count": 1,
   "metadata": {},
   "outputs": [],
   "source": [
    "from torch.utils.data import DataLoader\n",
    "from bras.utils.datasets import (\n",
    "    BrainTumorSegmentaion, BRATS_TRAIN_TRANSFORM, BRATS_VALIDATION_TRANSFORM)\n"
   ]
  },
  {
   "cell_type": "code",
   "execution_count": null,
   "metadata": {},
   "outputs": [],
   "source": [
    "brats_train_dataset = BrainTumorSegmentaion(\n",
    "    dataset_path=DATASET_PATH,\n",
    "    transforms=BRATS_TRAIN_TRANSFORM,\n",
    "    download=True\n",
    ")\n",
    "\n",
    "brats_validation_dataset = BrainTumorSegmentaion(\n",
    "    dataset_path=DATASET_PATH,\n",
    "    transforms=BRATS_VALIDATION_TRANSFORM,\n",
    "    download=True\n",
    ")"
   ]
  },
  {
   "cell_type": "code",
   "execution_count": null,
   "metadata": {},
   "outputs": [],
   "source": [
    "brats_train_dataloader = DataLoader(brats_train_dataset, batch_size=BATCH_SIZE, shuffle=True)\n",
    "brats_validation_dataloader = DataLoader(brats_train_dataset, batch_size=1, shuffle=False)"
   ]
  },
  {
   "cell_type": "markdown",
   "metadata": {},
   "source": [
    "### Define model and loss function"
   ]
  },
  {
   "cell_type": "code",
   "execution_count": 7,
   "metadata": {},
   "outputs": [],
   "source": [
    "from bras.nn.unet import DynUnet3D\n",
    "from bras.nn.losses import BraTsDiceFocalLoss"
   ]
  },
  {
   "cell_type": "code",
   "execution_count": null,
   "metadata": {},
   "outputs": [],
   "source": [
    "unet_3d_model = DynUnet3D(config=config[\"model\"])\n",
    "loss_fn = BraTsDiceFocalLoss(config=config[\"loss\"])"
   ]
  },
  {
   "cell_type": "markdown",
   "metadata": {},
   "source": [
    "### Setup train "
   ]
  },
  {
   "cell_type": "code",
   "execution_count": 9,
   "metadata": {},
   "outputs": [],
   "source": [
    "import pytorch_lightning as pl\n",
    "from bras.utils.train import (\n",
    "    create_optimizer, create_lr_scheduler, LightningSegmentationModel)\n",
    "\n",
    "from bras.nn.metric import DiceLightningMetric"
   ]
  },
  {
   "cell_type": "code",
   "execution_count": null,
   "metadata": {},
   "outputs": [],
   "source": [
    "optimizer = create_optimizer(config[\"optimizer\"], unet_3d_model)\n",
    "lr_scheduler = create_lr_scheduler(config[\"lr_scheduler\"], optimizer)\n",
    "metric_fn = DiceLightningMetric()"
   ]
  },
  {
   "cell_type": "code",
   "execution_count": null,
   "metadata": {},
   "outputs": [],
   "source": [
    "lightning_model = LightningSegmentationModel(\n",
    "    torch_model=unet_3d_model,\n",
    "    loss_fn=loss_fn,\n",
    "    optimizer=optimizer,\n",
    "    scheduler=lr_scheduler,\n",
    "    metric=(\"dice_metric\", metric_fn.forward)\n",
    ")"
   ]
  },
  {
   "cell_type": "markdown",
   "metadata": {},
   "source": [
    "### Train schedule"
   ]
  },
  {
   "cell_type": "code",
   "execution_count": 1,
   "metadata": {},
   "outputs": [],
   "source": [
    "from pytorch_lightning.loggers import TensorBoardLogger\n",
    "from pytorch_lightning import Trainer\n",
    "\n",
    "logger = TensorBoardLogger(TENSORBOARD_DIR, name=\"unet_3d_brats\")\n",
    "trainer = Trainer(\n",
    "    logger=logger,\n",
    "    gpus=1,\n",
    "    max_epochs=20,\n",
    "    log_every_n_steps=5,\n",
    "    default_root_dir=CHECKPOINT_PATH\n",
    ")"
   ]
  },
  {
   "cell_type": "code",
   "execution_count": null,
   "metadata": {},
   "outputs": [],
   "source": [
    "trainer.fit(\n",
    "    model=lightning_model,\n",
    "    train_dataloaders=brats_train_dataloader,\n",
    "    val_dataloaders=brats_validation_dataloader\n",
    ")"
   ]
  }
 ],
 "metadata": {
  "kernelspec": {
   "display_name": "Python 3.9.12 ('base')",
   "language": "python",
   "name": "python3"
  },
  "language_info": {
   "codemirror_mode": {
    "name": "ipython",
    "version": 3
   },
   "file_extension": ".py",
   "mimetype": "text/x-python",
   "name": "python",
   "nbconvert_exporter": "python",
   "pygments_lexer": "ipython3",
   "version": "3.9.12"
  },
  "orig_nbformat": 4,
  "vscode": {
   "interpreter": {
    "hash": "5179d32cf6ec497baf3f8a3ef987cc77c5d2dc691fdde20a56316522f61a7323"
   }
  }
 },
 "nbformat": 4,
 "nbformat_minor": 2
}
